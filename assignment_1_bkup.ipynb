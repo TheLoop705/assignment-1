{
 "cells": [
  {
   "cell_type": "markdown",
   "metadata": {},
   "source": []
  },
  {
   "cell_type": "code",
   "execution_count": 5,
   "metadata": {},
   "outputs": [
    {
     "name": "stdout",
     "output_type": "stream",
     "text": [
      "Imports complete\n"
     ]
    }
   ],
   "source": [
    "import pandas as pd\n",
    "import numpy as np\n",
    "from sklearn import preprocessing\n",
    "from sklearn import datasets\n",
    "from sklearn import metrics\n",
    "from sklearn.model_selection import train_test_split\n",
    "from sklearn.neural_network import MLPClassifier\n",
    "from sklearn.svm import SVC\n",
    "from sklearn.ensemble import RandomForestClassifier\n",
    "from sklearn.model_selection import GridSearchCV\n",
    "from sklearn.model_selection import RandomizedSearchCV\n",
    "import time\n",
    "import matplotlib.pyplot as plt\n",
    "# from sklearn_evaluation import plot\n",
    "\n",
    "print(\"Imports complete\")"
   ]
  },
  {
   "cell_type": "code",
   "execution_count": null,
   "metadata": {},
   "outputs": [],
   "source": [
    "# Load the data from the text file, ignoring the first line\n",
    "\n",
    "filename=\"./data/MiniBooNE_PID.txt\"\n",
    "data=pd.read_csv(filename,delim_whitespace=True,skiprows=1,header=None)\n",
    "print(data.head(1))\n",
    "X=data"
   ]
  },
  {
   "cell_type": "code",
   "execution_count": null,
   "metadata": {},
   "outputs": [],
   "source": [
    "\"\"\" Create target vector for each row of the dataset. \n",
    "The first value in the first row contains the number of signal events, the second the number of background events. \n",
    "The target vector should contain 1 for signal events and 0 for background events.\"\"\"\n",
    "\n",
    "# Get number of signal and background events\n",
    "signal, background = open(filename).readline().split()\n",
    "\n",
    "y = np.concatenate((np.ones(int(signal)), np.zeros(int(background))))\n",
    "print(y.shape)"
   ]
  },
  {
   "attachments": {},
   "cell_type": "markdown",
   "metadata": {},
   "source": [
    "Standardization scales the input features to have a mean of 0 and a standard deviation of 1"
   ]
  },
  {
   "cell_type": "code",
   "execution_count": null,
   "metadata": {},
   "outputs": [],
   "source": [
    "# Standardize the input data\n",
    "scaler = preprocessing.StandardScaler()\n",
    "scaler.fit(X)\n",
    "X_scaled = scaler.transform(X)"
   ]
  },
  {
   "cell_type": "code",
   "execution_count": null,
   "metadata": {},
   "outputs": [],
   "source": [
    "\"\"\" save the scaled matrix and the target vector as npy files \"\"\"\n",
    "np.save('X.npy', X_scaled)\n",
    "np.save('y.npy', y)"
   ]
  },
  {
   "cell_type": "code",
   "execution_count": 7,
   "metadata": {},
   "outputs": [],
   "source": [
    "X=np.load('X.npy') # load the scaled matrix\n",
    "y=np.load('y.npy')"
   ]
  },
  {
   "cell_type": "code",
   "execution_count": 8,
   "metadata": {},
   "outputs": [],
   "source": [
    "# Split the data into training and test sets\n",
    "X_train, X_test, y_train, y_test = train_test_split(X, y, test_size=0.2, random_state=42)"
   ]
  },
  {
   "cell_type": "code",
   "execution_count": 21,
   "metadata": {},
   "outputs": [
    {
     "name": "stdout",
     "output_type": "stream",
     "text": [
      "Fitting 5 folds for each of 4 candidates, totalling 20 fits\n",
      "[CV 1/5; 1/4] START hidden_layer_sizes=(40,), max_iter=500, random_state=42.....\n",
      "[CV 1/5; 1/4] END hidden_layer_sizes=(40,), max_iter=500, random_state=42;, score=0.936 total time= 1.1min\n",
      "[CV 2/5; 1/4] START hidden_layer_sizes=(40,), max_iter=500, random_state=42.....\n",
      "[CV 2/5; 1/4] END hidden_layer_sizes=(40,), max_iter=500, random_state=42;, score=0.936 total time= 1.1min\n",
      "[CV 3/5; 1/4] START hidden_layer_sizes=(40,), max_iter=500, random_state=42.....\n",
      "[CV 3/5; 1/4] END hidden_layer_sizes=(40,), max_iter=500, random_state=42;, score=0.934 total time= 1.4min\n",
      "[CV 4/5; 1/4] START hidden_layer_sizes=(40,), max_iter=500, random_state=42.....\n",
      "[CV 4/5; 1/4] END hidden_layer_sizes=(40,), max_iter=500, random_state=42;, score=0.932 total time=  58.6s\n",
      "[CV 5/5; 1/4] START hidden_layer_sizes=(40,), max_iter=500, random_state=42.....\n",
      "[CV 5/5; 1/4] END hidden_layer_sizes=(40,), max_iter=500, random_state=42;, score=0.938 total time= 1.6min\n",
      "[CV 1/5; 2/4] START hidden_layer_sizes=(40, 40), max_iter=500, random_state=42..\n",
      "[CV 1/5; 2/4] END hidden_layer_sizes=(40, 40), max_iter=500, random_state=42;, score=0.938 total time= 1.6min\n",
      "[CV 2/5; 2/4] START hidden_layer_sizes=(40, 40), max_iter=500, random_state=42..\n",
      "[CV 2/5; 2/4] END hidden_layer_sizes=(40, 40), max_iter=500, random_state=42;, score=0.935 total time= 1.6min\n",
      "[CV 3/5; 2/4] START hidden_layer_sizes=(40, 40), max_iter=500, random_state=42..\n",
      "[CV 3/5; 2/4] END hidden_layer_sizes=(40, 40), max_iter=500, random_state=42;, score=0.936 total time= 1.2min\n",
      "[CV 4/5; 2/4] START hidden_layer_sizes=(40, 40), max_iter=500, random_state=42..\n",
      "[CV 4/5; 2/4] END hidden_layer_sizes=(40, 40), max_iter=500, random_state=42;, score=0.935 total time= 1.7min\n",
      "[CV 5/5; 2/4] START hidden_layer_sizes=(40, 40), max_iter=500, random_state=42..\n",
      "[CV 5/5; 2/4] END hidden_layer_sizes=(40, 40), max_iter=500, random_state=42;, score=0.939 total time= 1.0min\n",
      "[CV 1/5; 3/4] START hidden_layer_sizes=(40, 40, 40), max_iter=500, random_state=42\n",
      "[CV 1/5; 3/4] END hidden_layer_sizes=(40, 40, 40), max_iter=500, random_state=42;, score=0.936 total time= 2.5min\n",
      "[CV 2/5; 3/4] START hidden_layer_sizes=(40, 40, 40), max_iter=500, random_state=42\n",
      "[CV 2/5; 3/4] END hidden_layer_sizes=(40, 40, 40), max_iter=500, random_state=42;, score=0.938 total time= 2.2min\n",
      "[CV 3/5; 3/4] START hidden_layer_sizes=(40, 40, 40), max_iter=500, random_state=42\n",
      "[CV 3/5; 3/4] END hidden_layer_sizes=(40, 40, 40), max_iter=500, random_state=42;, score=0.934 total time= 3.9min\n",
      "[CV 4/5; 3/4] START hidden_layer_sizes=(40, 40, 40), max_iter=500, random_state=42\n",
      "[CV 4/5; 3/4] END hidden_layer_sizes=(40, 40, 40), max_iter=500, random_state=42;, score=0.934 total time= 1.6min\n",
      "[CV 5/5; 3/4] START hidden_layer_sizes=(40, 40, 40), max_iter=500, random_state=42\n",
      "[CV 5/5; 3/4] END hidden_layer_sizes=(40, 40, 40), max_iter=500, random_state=42;, score=0.934 total time= 3.4min\n",
      "[CV 1/5; 4/4] START hidden_layer_sizes=(40, 40, 40, 40), max_iter=500, random_state=42\n",
      "[CV 1/5; 4/4] END hidden_layer_sizes=(40, 40, 40, 40), max_iter=500, random_state=42;, score=0.935 total time= 3.8min\n",
      "[CV 2/5; 4/4] START hidden_layer_sizes=(40, 40, 40, 40), max_iter=500, random_state=42\n",
      "[CV 2/5; 4/4] END hidden_layer_sizes=(40, 40, 40, 40), max_iter=500, random_state=42;, score=0.932 total time= 4.3min\n",
      "[CV 3/5; 4/4] START hidden_layer_sizes=(40, 40, 40, 40), max_iter=500, random_state=42\n",
      "[CV 3/5; 4/4] END hidden_layer_sizes=(40, 40, 40, 40), max_iter=500, random_state=42;, score=0.932 total time= 5.0min\n",
      "[CV 4/5; 4/4] START hidden_layer_sizes=(40, 40, 40, 40), max_iter=500, random_state=42\n",
      "[CV 4/5; 4/4] END hidden_layer_sizes=(40, 40, 40, 40), max_iter=500, random_state=42;, score=0.928 total time= 4.4min\n",
      "[CV 5/5; 4/4] START hidden_layer_sizes=(40, 40, 40, 40), max_iter=500, random_state=42\n",
      "[CV 5/5; 4/4] END hidden_layer_sizes=(40, 40, 40, 40), max_iter=500, random_state=42;, score=0.934 total time= 3.3min\n",
      "Time required to grid search Vanilla Neural Network classifier: 3010.0896458625793\n",
      "Vanilla Neural Network best hyperparameters: {'hidden_layer_sizes': (40, 40), 'max_iter': 500, 'random_state': 42}\n",
      "Vanilla Neural Network best cross-validation accuracy: 0.9367233214996384\n"
     ]
    }
   ],
   "source": [
    "# Create a vanilla neural network classifier and train it on the training data\n",
    "nn_clf = MLPClassifier(random_state=42)\n",
    "\n",
    "# Define the hyperparameter space to search over for the vanilla neural network classifier\n",
    "nn_param_grid = {\n",
    "    'hidden_layer_sizes': [(40,), (40,40), (40,40,40), (40,40,40,40)],\n",
    "    # 'hidden_layer_sizes': [(30,), (30,30), (30,30,30), (30,30,30,30)],\n",
    "    # 'activation': [\"relu\", \"logistic\", \"tanh\", \"identity\"],\n",
    "    # 'learning_rate_init': [0.001, 0.01, 0.1],\n",
    "    'max_iter': [500],\n",
    "    'random_state': [42]\n",
    "}\n",
    "\n",
    "# Set up the grid search using 5-fold cross-validation\n",
    "nn_grid_search = GridSearchCV(nn_clf, nn_param_grid, cv=5, scoring='accuracy',verbose=10)\n",
    "# nn_grid_search = RandomizedSearchCV(nn_clf, nn_param_grid, cv=5, scoring='accuracy', n_iter=2)\n",
    "\n",
    "# Perform the grid search on the training set\n",
    "nn_start_time = time.time()\n",
    "nn_grid_search.fit(X_train, y_train)\n",
    "nn_end_time = time.time()\n",
    "print('Time required to grid search Vanilla Neural Network classifier:', nn_end_time - nn_start_time)\n",
    "\n",
    "# Print the best hyperparameters and the best cross-validation accuracy\n",
    "print('Vanilla Neural Network best hyperparameters:', nn_grid_search.best_params_)\n",
    "print('Vanilla Neural Network best cross-validation accuracy:', nn_grid_search.best_score_)"
   ]
  },
  {
   "cell_type": "code",
   "execution_count": 22,
   "metadata": {},
   "outputs": [
    {
     "name": "stdout",
     "output_type": "stream",
     "text": [
      "Time required to train Vanilla Neural Network classifier: 134.89314246177673\n",
      "Vanilla Neural Network test accuracy: 0.9390689270749241\n"
     ]
    }
   ],
   "source": [
    "# Re-train the classifier using the best hyperparameters on the full training set\n",
    "nn_clf = nn_grid_search.best_estimator_\n",
    "\n",
    "nn_start_time = time.time()\n",
    "nn_clf.fit(X_train, y_train)\n",
    "nn_end_time = time.time()\n",
    "\n",
    "# Evaluate the classifier on the test set\n",
    "# nn_test_accuracy = nn_clf.score(X_test, y_test)\n",
    "nn_test_accuracy = nn_grid_search.score(X_test, y_test)\n",
    "print('Time required to train Vanilla Neural Network classifier:', nn_end_time - nn_start_time)\n",
    "print('Vanilla Neural Network test accuracy:', nn_test_accuracy)"
   ]
  },
  {
   "cell_type": "code",
   "execution_count": 27,
   "metadata": {},
   "outputs": [
    {
     "name": "stdout",
     "output_type": "stream",
     "text": [
      "HiddenLayerSize: (40,) | 75.29s | test-score: 0.935311\n",
      "HiddenLayerSize: (40, 40) | 86.75s | test-score: 0.936723\n",
      "HiddenLayerSize: (40, 40, 40) | 163.92s | test-score: 0.934984\n",
      "HiddenLayerSize: (40, 40, 40, 40) | 249.26s | test-score: 0.932158\n"
     ]
    }
   ],
   "source": [
    "# Get the results of the grid search\n",
    "nn_results = nn_grid_search.cv_results_\n",
    "\n",
    "# Get the mean and standard deviation for each hyperparameter combination\n",
    "nn_mean_scores = nn_results['mean_test_score']\n",
    "nn_mean_times = nn_results['mean_fit_time']\n",
    "nn_params = nn_results['param_hidden_layer_sizes']\n",
    "\n",
    "# Loop through each combination of hyperparameters\n",
    "for mean_score, mean_time, param in zip(nn_mean_scores, nn_mean_times, nn_params):\n",
    "    print(\"HiddenLayerSize: %r | %.2fs | test-score: %f\" % (param, mean_time, mean_score))"
   ]
  },
  {
   "cell_type": "code",
   "execution_count": 31,
   "metadata": {},
   "outputs": [
    {
     "name": "stderr",
     "output_type": "stream",
     "text": [
      "/tmp/ipykernel_4109702/2129472787.py:5: UserWarning: linestyle is redundantly defined by the 'linestyle' keyword argument and the fmt string \"o-\" (-> linestyle='-'). The keyword argument will take precedence.\n",
      "  ax1.plot([1,2,3,4], nn_mean_scores, 'o-', label=\"Mean Score\", linestyle=':')\n"
     ]
    },
    {
     "data": {
      "image/png": "[encoded data removed]",
      "text/plain": [
       "<Figure size 640x480 with 2 Axes>"
      ]
     },
     "metadata": {},
     "output_type": "display_data"
    }
   ],
   "source": [
    "\"\"\" plot the results of the grid search against the hyperparameter values \"\"\"\n",
    "fig, ax1 = plt.subplots()\n",
    "\n",
    "ax2 = ax1.twinx()\n",
    "ax1.plot([1,2,3,4], nn_mean_scores, 'o:', label=\"Mean Score\", linestyle=':')\n",
    "ax2.plot([1,2,3,4], nn_mean_times, 'o:',color='orange', label=\"Mean Fit Time\")\n",
    "ax1.set_xlabel('Number of hidden layers of size 40')\n",
    "ax1.set_ylabel('Score', color='blue')\n",
    "ax2.set_ylabel('Fit time [s]', color='orange')\n",
    "\n",
    "plt.show()"
   ]
  },
  {
   "cell_type": "code",
   "execution_count": 56,
   "metadata": {},
   "outputs": [],
   "source": [
    "from thundersvm import SVC"
   ]
  },
  {
   "cell_type": "code",
   "execution_count": 9,
   "metadata": {},
   "outputs": [
    {
     "name": "stdout",
     "output_type": "stream",
     "text": [
      "SVM best hyperparameters: {'C': 10, 'random_state': 42}\n",
      "SVM best cross-validation accuracy: 0.9066611484782229\n",
      "Time required to train SVM classifier: 4058.4434032440186\n",
      "SVM test accuracy: 0.908468842501826\n"
     ]
    }
   ],
   "source": [
    "# Create a SVM classifier and train it on the training data\n",
    "svm_clf = SVC(kernel=\"rbf\",random_state=42)\n",
    "\n",
    "svm_param_grid = {\n",
    "    # 'kernel': ['linear','rbf', 'poly', 'sigmoid'],\n",
    "    'C': [10],\n",
    "    'gamma': ['auto'],\n",
    "    'random_state': [42],\n",
    "}\n",
    "\n",
    "svm_grid_search = GridSearchCV(svm_clf, svm_param_grid, cv=5, scoring='accuracy', verbose=10)\n",
    "\n",
    "svm_start_time = time.time()\n",
    "svm_grid_search.fit(X_train, y_train)\n",
    "svm_end_time = time.time()\n",
    "\n",
    "print('SVM best hyperparameters:', svm_grid_search.best_params_)\n",
    "print('SVM best cross-validation accuracy:', svm_grid_search.best_score_)\n",
    "print('Time required to perform GridSearch on SVM classifier:', svm_end_time - svm_start_time, 'seconds')"
   ]
  },
  {
   "cell_type": "code",
   "execution_count": 14,
   "metadata": {},
   "outputs": [
    {
     "name": "stdout",
     "output_type": "stream",
     "text": [
      "The history saving thread hit an unexpected error (OperationalError('disk I/O error')).History will not be written to the database.\n",
      "Time required to train SVM classifier: 4058.4434032440186\n",
      "SVM test accuracy: 0.908468842501826\n"
     ]
    }
   ],
   "source": [
    "svm_clf = svm_grid_search.best_estimator_\n",
    "\n",
    "svm_clf.fit(X_train, y_train)\n",
    "\n",
    "svm_test_accuracy = svm_grid_search.score(X_test, y_test)\n",
    "print('Time required to train SVM classifier:', svm_end_time - svm_start_time)\n",
    "print('SVM test accuracy:', svm_test_accuracy)"
   ]
  },
  {
   "cell_type": "code",
   "execution_count": 58,
   "metadata": {},
   "outputs": [
    {
     "name": "stdout",
     "output_type": "stream",
     "text": [
      "C: 0.1 | 331.12s | test-score: 0.877185\n",
      "C: 1 | 160.40s | test-score: 0.891601\n",
      "C: 10 | 148.25s | test-score: 0.906661\n"
     ]
    }
   ],
   "source": [
    "# Get the results of the grid search\n",
    "svm_results = svm_grid_search.cv_results_\n",
    "\n",
    "svm_mean_scores = svm_results['mean_test_score']\n",
    "svm_mean_score_times = svm_results['mean_score_time']\n",
    "svm_mean_fit_times = svm_results['mean_fit_time']\n",
    "svm_param_C = svm_results['param_C']\n",
    "\n",
    "for mean_score, mean_score_time, mean_fit_time, param in zip(svm_mean_scores, svm_mean_score_times, svm_mean_fit_times, svm_param_C):\n",
    "    print(\"C: %r | %.2fs | test-score: %f\" % (param, mean_fit_time, mean_score))"
   ]
  },
  {
   "cell_type": "code",
   "execution_count": 55,
   "metadata": {},
   "outputs": [
    {
     "data": {
      "image/png": "[encoded data removed]",
      "text/plain": [
       "<Figure size 640x480 with 2 Axes>"
      ]
     },
     "metadata": {},
     "output_type": "display_data"
    }
   ],
   "source": [
    "\"\"\" plot the results of the grid search against the hyperparameter values \"\"\"\n",
    "fig, ax1 = plt.subplots()\n",
    "\n",
    "ax2 = ax1.twinx()\n",
    "ax1.plot(svm_param_C, svm_mean_scores,'o:', color='blue', label=\"Mean Score\")\n",
    "ax2.plot(svm_param_C, svm_mean_fit_times,'o:', color='orange', label=\"Mean Fit Time\")\n",
    "ax1.set_xlabel('Regularization parameter')\n",
    "ax1.set_ylabel('Score', color='blue')\n",
    "ax2.set_ylabel('Fit time', color='orange')\n",
    "\n",
    "plt.show()"
   ]
  },
  {
   "cell_type": "code",
   "execution_count": null,
   "metadata": {},
   "outputs": [],
   "source": [
    "# Create a random forest classifier and train it on the training data\n",
    "rf_clf = RandomForestClassifier(random_state=42)\n",
    "\n",
    "param_grid = {\n",
    "    \"n_estimators\": [10, 50, 100, 200],\n",
    "    # \"max_depth\": [None, 10, 20, 30],\n",
    "    # \"min_samples_split\": [2, 4, 8],\n",
    "    # \"min_samples_leaf\": [1, 2, 4],\n",
    "    # \"max_features\": [\"sqrt\", \"log2\", None]\n",
    "    'random_state': [42]\n",
    "}\n",
    "\n",
    "rf_grid_search = GridSearchCV(rf_clf, svm_param_grid, cv=5, scoring='accuracy')\n",
    "\n",
    "rf_start_time = time.time()\n",
    "rf_grid_search.fit(X_train, y_train)\n",
    "rf_end_time = time.time()\n",
    "\n",
    "print('RF best hyperparameters:', rf_grid_search.best_params_)\n",
    "print('RF best cross-validation accuracy:', rf_grid_search.best_score_)\n",
    "\n",
    "rf_clf = rf_grid_search.best_estimator_\n",
    "# rf_clf.fit(X_train, y_train)\n",
    "\n",
    "rf_test_accuracy = rf_grid_search.score(X_test, y_test)\n",
    "print('Time required to train RF classifier:', rf_end_time - rf_start_time)\n",
    "print('RF test accuracy:', rf_test_accuracy)"
   ]
  },
  {
   "cell_type": "code",
   "execution_count": null,
   "metadata": {},
   "outputs": [],
   "source": [
    "# Generate predictions for the test set\n",
    "nn_predictions = nn_clf.predict(X_test)\n",
    "svm_predictions = svm_clf.predict(X_test)\n",
    "rf_predictions = rf_clf.predict(X_test)"
   ]
  },
  {
   "cell_type": "code",
   "execution_count": null,
   "metadata": {},
   "outputs": [],
   "source": [
    "from sklearn.metrics import confusion_matrix\n",
    "\n",
    "# Define a dictionary that maps model names to their hyperparameters\n",
    "model_hyperparams = {\n",
    "    'Vanilla Neural Network': nn_grid_search.best_params_,\n",
    "    'SVM': svm_grid_search.best_params_,\n",
    "    'Random Forest': rf_grid_search.best_params_\n",
    "}\n",
    "\n",
    "# Compute the confusion matrix for each model\n",
    "nn_confusion_matrix = metrics.confusion_matrix(y_test, nn_predictions)\n",
    "svm_confusion_matrix = metrics.confusion_matrix(y_test, svm_predictions)\n",
    "rf_confusion_matrix = metrics.confusion_matrix(y_test, rf_predictions)\n",
    "\n",
    "# Print the confusion matrix and hyperparameters for each model\n",
    "print('Vanilla Neural Network confusion matrix:')\n",
    "print(nn_confusion_matrix)\n",
    "print('Vanilla Neural Network hyperparameters:', model_hyperparams['Vanilla Neural Network'])\n",
    "\n",
    "print('SVM confusion matrix:')\n",
    "print(svm_confusion_matrix)\n",
    "print('SVM hyperparameters:', model_hyperparams['SVM'])\n",
    "\n",
    "print('Random Forest confusion matrix:')\n",
    "print(rf_confusion_matrix)\n",
    "print('Random Forest hyperparameters:', model_hyperparams['Random Forest'])"
   ]
  },
  {
   "cell_type": "code",
   "execution_count": null,
   "metadata": {},
   "outputs": [],
   "source": [
    "# Evaluate the performance of each classifier\n",
    "nn_accuracy = metrics.accuracy_score(y_test, nn_predictions)\n",
    "svm_accuracy = metrics.accuracy_score(y_test, svm_predictions)\n",
    "rf_accuracy = metrics.accuracy_score(y_test, rf_predictions)\n",
    "print(\"Vanilla Neural Network Accuracy:\", nn_accuracy)\n",
    "print(\"SVM Accuracy:\", svm_accuracy)\n",
    "print(\"Random Forest Accuracy:\", rf_accuracy)"
   ]
  },
  {
   "cell_type": "code",
   "execution_count": 52,
   "metadata": {},
   "outputs": [],
   "source": [
    "from joblib import dump, load\n"
   ]
  },
  {
   "cell_type": "code",
   "execution_count": 53,
   "metadata": {},
   "outputs": [
    {
     "data": {
      "text/plain": [
       "['nn_clf.joblib']"
      ]
     },
     "execution_count": 53,
     "metadata": {},
     "output_type": "execute_result"
    }
   ],
   "source": [
    "dump(nn_clf, 'nn_clf.joblib')"
   ]
  },
  {
   "cell_type": "code",
   "execution_count": 54,
   "metadata": {},
   "outputs": [
    {
     "data": {
      "text/plain": [
       "['svm_clf.joblib']"
      ]
     },
     "execution_count": 54,
     "metadata": {},
     "output_type": "execute_result"
    }
   ],
   "source": [
    "dump(svm_clf, 'svm_clf.joblib')"
   ]
  },
  {
   "cell_type": "code",
   "execution_count": null,
   "metadata": {},
   "outputs": [],
   "source": [
    "dump(rf_clf, 'rf_clf.joblib')"
   ]
  },
  {
   "cell_type": "code",
   "execution_count": null,
   "metadata": {},
   "outputs": [],
   "source": [
    "nn_clf = load('nn_clf.joblib')"
   ]
  },
  {
   "cell_type": "code",
   "execution_count": null,
   "metadata": {},
   "outputs": [],
   "source": [
    "svm_clf = load('svm_clf.joblib')"
   ]
  },
  {
   "cell_type": "code",
   "execution_count": null,
   "metadata": {},
   "outputs": [],
   "source": [
    "rf_clf = load('rf_clf.joblib')"
   ]
  }
 ],
 "metadata": {
  "kernelspec": {
   "display_name": "ml",
   "language": "python",
   "name": "python3"
  },
  "language_info": {
   "codemirror_mode": {
    "name": "ipython",
    "version": 3
   },
   "file_extension": ".py",
   "mimetype": "text/x-python",
   "name": "python",
   "nbconvert_exporter": "python",
   "pygments_lexer": "ipython3",
   "version": "3.10.8 (main, Nov 24 2022, 14:13:03) [GCC 11.2.0]"
  },
  "orig_nbformat": 4,
  "vscode": {
   "interpreter": {
    "hash": "ad071b5b819e0a1b121676cbca51903af3555117a46a551d81afb28a96a0d134"
   }
  }
 },
 "nbformat": 4,
 "nbformat_minor": 2
}
