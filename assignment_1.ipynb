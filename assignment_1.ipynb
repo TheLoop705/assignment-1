{
 "cells": [
  {
   "cell_type": "markdown",
   "metadata": {},
   "source": []
  },
  {
   "cell_type": "code",
   "execution_count": 2,
   "metadata": {},
   "outputs": [
    {
     "name": "stderr",
     "output_type": "stream",
     "text": [
      "c:\\Anaconda3\\envs\\ml_env\\lib\\site-packages\\scipy\\__init__.py:146: UserWarning: A NumPy version >=1.16.5 and <1.23.0 is required for this version of SciPy (detected version 1.23.3\n",
      "  warnings.warn(f\"A NumPy version >={np_minversion} and <{np_maxversion}\"\n"
     ]
    },
    {
     "name": "stdout",
     "output_type": "stream",
     "text": [
      "Imports complete\n"
     ]
    }
   ],
   "source": [
    "import pandas as pd\n",
    "import numpy as np\n",
    "from sklearn import preprocessing\n",
    "from sklearn import datasets\n",
    "from sklearn import metrics\n",
    "from sklearn.model_selection import train_test_split\n",
    "from sklearn.neural_network import MLPClassifier\n",
    "from sklearn.svm import SVC\n",
    "from sklearn.ensemble import RandomForestClassifier\n",
    "from sklearn.model_selection import GridSearchCV\n",
    "from sklearn.model_selection import RandomizedSearchCV\n",
    "import time\n",
    "import matplotlib.pyplot as plt\n",
    "# from sklearn_evaluation import plot\n",
    "\n",
    "print(\"Imports complete\")"
   ]
  },
  {
   "cell_type": "code",
   "execution_count": null,
   "metadata": {},
   "outputs": [],
   "source": [
    "# Load the data from the text file, ignoring the first line\n",
    "\n",
    "filename=\"./data/MiniBooNE_PID.txt\"\n",
    "data=pd.read_csv(filename,delim_whitespace=True,skiprows=1,header=None)\n",
    "print(data.head(1))\n",
    "X=data"
   ]
  },
  {
   "cell_type": "code",
   "execution_count": null,
   "metadata": {},
   "outputs": [],
   "source": [
    "\"\"\" Create target vector for each row of the dataset. \n",
    "The first value in the first row contains the number of signal events, the second the number of background events. \n",
    "The target vector should contain 1 for signal events and 0 for background events.\"\"\"\n",
    "\n",
    "# Get number of signal and background events\n",
    "signal, background = open(filename).readline().split()\n",
    "\n",
    "y = np.concatenate((np.ones(int(signal)), np.zeros(int(background))))\n",
    "print(y.shape)"
   ]
  },
  {
   "attachments": {},
   "cell_type": "markdown",
   "metadata": {},
   "source": [
    "Standardization scales the input features to have a mean of 0 and a standard deviation of 1"
   ]
  },
  {
   "cell_type": "code",
   "execution_count": null,
   "metadata": {},
   "outputs": [],
   "source": [
    "# Standardize the input data\n",
    "scaler = preprocessing.StandardScaler()\n",
    "scaler.fit(X)\n",
    "X_scaled = scaler.transform(X)"
   ]
  },
  {
   "cell_type": "code",
   "execution_count": null,
   "metadata": {},
   "outputs": [],
   "source": [
    "\"\"\" save the scaled matrix and the target vector as npy files \"\"\"\n",
    "np.save('X.npy', X_scaled)\n",
    "np.save('y.npy', y)"
   ]
  },
  {
   "cell_type": "code",
   "execution_count": 3,
   "metadata": {},
   "outputs": [],
   "source": [
    "X=np.load('X.npy') # load the scaled matrix\n",
    "y=np.load('y.npy')"
   ]
  },
  {
   "cell_type": "code",
   "execution_count": 4,
   "metadata": {},
   "outputs": [],
   "source": [
    "# Split the data into training and test sets\n",
    "X_train, X_test, y_train, y_test = train_test_split(X, y, test_size=0.2, random_state=42)"
   ]
  },
  {
   "cell_type": "code",
   "execution_count": 6,
   "metadata": {},
   "outputs": [
    {
     "name": "stdout",
     "output_type": "stream",
     "text": [
      "Fitting 5 folds for each of 4 candidates, totalling 20 fits\n",
      "[CV 1/5; 1/4] START hidden_layer_sizes=(30,), max_iter=500, random_state=42.....\n"
     ]
    },
    {
     "name": "stderr",
     "output_type": "stream",
     "text": [
      "c:\\Anaconda3\\envs\\ml_env\\lib\\site-packages\\sklearn\\neural_network\\_multilayer_perceptron.py:699: UserWarning: Training interrupted by user.\n",
      "  warnings.warn(\"Training interrupted by user.\")\n"
     ]
    },
    {
     "name": "stdout",
     "output_type": "stream",
     "text": [
      "[CV 1/5; 1/4] END hidden_layer_sizes=(30,), max_iter=500, random_state=42;, score=0.927 total time=  38.1s\n",
      "[CV 2/5; 1/4] START hidden_layer_sizes=(30,), max_iter=500, random_state=42.....\n"
     ]
    }
   ],
   "source": [
    "# Create a vanilla neural network classifier and train it on the training data\n",
    "nn_clf = MLPClassifier(random_state=42)\n",
    "\n",
    "# Define the hyperparameter space to search over for the vanilla neural network classifier\n",
    "nn_param_grid = {\n",
    "    # 'hidden_layer_sizes': [(40,), (40,40), (40,40,40), (40,40,40,40)],\n",
    "    'hidden_layer_sizes': [(30,), (30,30), (30,30,30), (30,30,30,30)],\n",
    "    # 'activation': [\"relu\", \"logistic\", \"tanh\", \"identity\"],\n",
    "    # 'learning_rate_init': [0.001, 0.01, 0.1],\n",
    "    'max_iter': [500],\n",
    "    'random_state': [42]\n",
    "}\n",
    "\n",
    "# Set up the grid search using 5-fold cross-validation\n",
    "nn_grid_search = GridSearchCV(nn_clf, nn_param_grid, cv=5, scoring='accuracy',verbose=10)\n",
    "# nn_grid_search = RandomizedSearchCV(nn_clf, nn_param_grid, cv=5, scoring='accuracy', n_iter=2)\n",
    "\n",
    "# Perform the grid search on the training set\n",
    "nn_start_time = time.time()\n",
    "nn_grid_search.fit(X_train, y_train)\n",
    "nn_end_time = time.time()\n",
    "print('Time required to grid search Vanilla Neural Network classifier:', nn_end_time - nn_start_time)\n",
    "\n",
    "# Print the best hyperparameters and the best cross-validation accuracy\n",
    "print('Vanilla Neural Network best hyperparameters:', nn_grid_search.best_params_)\n",
    "print('Vanilla Neural Network best cross-validation accuracy:', nn_grid_search.best_score_)"
   ]
  },
  {
   "cell_type": "code",
   "execution_count": null,
   "metadata": {},
   "outputs": [],
   "source": [
    "\n",
    "# Re-train the classifier using the best hyperparameters on the full training set\n",
    "nn_clf = nn_grid_search.best_estimator_\n",
    "\n",
    "# nn_start_time = time.time()\n",
    "# nn_clf.fit(X_train, y_train)\n",
    "# nn_end_time = time.time()\n",
    "\n",
    "# Evaluate the classifier on the test set\n",
    "# nn_test_accuracy = nn_clf.score(X_test, y_test)\n",
    "nn_test_accuracy = nn_grid_search.score(X_test, y_test)\n",
    "print('Time required to train Vanilla Neural Network classifier:', nn_end_time - nn_start_time)\n",
    "print('Vanilla Neural Network test accuracy:', nn_test_accuracy)"
   ]
  },
  {
   "cell_type": "code",
   "execution_count": 15,
   "metadata": {},
   "outputs": [
    {
     "data": {
      "text/html": [
       "<div>\n",
       "<style scoped>\n",
       "    .dataframe tbody tr th:only-of-type {\n",
       "        vertical-align: middle;\n",
       "    }\n",
       "\n",
       "    .dataframe tbody tr th {\n",
       "        vertical-align: top;\n",
       "    }\n",
       "\n",
       "    .dataframe thead th {\n",
       "        text-align: right;\n",
       "    }\n",
       "</style>\n",
       "<table border=\"1\" class=\"dataframe\">\n",
       "  <thead>\n",
       "    <tr style=\"text-align: right;\">\n",
       "      <th></th>\n",
       "      <th>mean_fit_time</th>\n",
       "      <th>std_fit_time</th>\n",
       "      <th>mean_score_time</th>\n",
       "      <th>std_score_time</th>\n",
       "      <th>param_hidden_layer_sizes</th>\n",
       "      <th>param_max_iter</th>\n",
       "      <th>param_random_state</th>\n",
       "      <th>params</th>\n",
       "      <th>split0_test_score</th>\n",
       "      <th>split1_test_score</th>\n",
       "      <th>split2_test_score</th>\n",
       "      <th>split3_test_score</th>\n",
       "      <th>split4_test_score</th>\n",
       "      <th>mean_test_score</th>\n",
       "      <th>std_test_score</th>\n",
       "      <th>rank_test_score</th>\n",
       "    </tr>\n",
       "  </thead>\n",
       "  <tbody>\n",
       "    <tr>\n",
       "      <th>0</th>\n",
       "      <td>99.880801</td>\n",
       "      <td>42.922300</td>\n",
       "      <td>0.008834</td>\n",
       "      <td>0.001813</td>\n",
       "      <td>(10,)</td>\n",
       "      <td>500</td>\n",
       "      <td>42</td>\n",
       "      <td>{'hidden_layer_sizes': (10,), 'max_iter': 500,...</td>\n",
       "      <td>0.931142</td>\n",
       "      <td>0.930514</td>\n",
       "      <td>0.928496</td>\n",
       "      <td>0.921864</td>\n",
       "      <td>0.923546</td>\n",
       "      <td>0.927113</td>\n",
       "      <td>0.003741</td>\n",
       "      <td>5</td>\n",
       "    </tr>\n",
       "    <tr>\n",
       "      <th>1</th>\n",
       "      <td>100.269097</td>\n",
       "      <td>14.807600</td>\n",
       "      <td>0.010706</td>\n",
       "      <td>0.000335</td>\n",
       "      <td>(20,)</td>\n",
       "      <td>500</td>\n",
       "      <td>42</td>\n",
       "      <td>{'hidden_layer_sizes': (20,), 'max_iter': 500,...</td>\n",
       "      <td>0.932488</td>\n",
       "      <td>0.930034</td>\n",
       "      <td>0.930226</td>\n",
       "      <td>0.932052</td>\n",
       "      <td>0.931139</td>\n",
       "      <td>0.931188</td>\n",
       "      <td>0.000969</td>\n",
       "      <td>4</td>\n",
       "    </tr>\n",
       "    <tr>\n",
       "      <th>2</th>\n",
       "      <td>74.619544</td>\n",
       "      <td>20.569110</td>\n",
       "      <td>0.011496</td>\n",
       "      <td>0.004978</td>\n",
       "      <td>(30,)</td>\n",
       "      <td>500</td>\n",
       "      <td>42</td>\n",
       "      <td>{'hidden_layer_sizes': (30,), 'max_iter': 500,...</td>\n",
       "      <td>0.934217</td>\n",
       "      <td>0.934647</td>\n",
       "      <td>0.934695</td>\n",
       "      <td>0.930802</td>\n",
       "      <td>0.930899</td>\n",
       "      <td>0.933052</td>\n",
       "      <td>0.001805</td>\n",
       "      <td>3</td>\n",
       "    </tr>\n",
       "    <tr>\n",
       "      <th>3</th>\n",
       "      <td>376.359996</td>\n",
       "      <td>372.444650</td>\n",
       "      <td>0.018623</td>\n",
       "      <td>0.007770</td>\n",
       "      <td>(40,)</td>\n",
       "      <td>500</td>\n",
       "      <td>42</td>\n",
       "      <td>{'hidden_layer_sizes': (40,), 'max_iter': 500,...</td>\n",
       "      <td>0.935659</td>\n",
       "      <td>0.937049</td>\n",
       "      <td>0.931860</td>\n",
       "      <td>0.934262</td>\n",
       "      <td>0.936617</td>\n",
       "      <td>0.935090</td>\n",
       "      <td>0.001877</td>\n",
       "      <td>1</td>\n",
       "    </tr>\n",
       "    <tr>\n",
       "      <th>4</th>\n",
       "      <td>163.394616</td>\n",
       "      <td>33.058251</td>\n",
       "      <td>0.025206</td>\n",
       "      <td>0.003538</td>\n",
       "      <td>(50,)</td>\n",
       "      <td>500</td>\n",
       "      <td>42</td>\n",
       "      <td>{'hidden_layer_sizes': (50,), 'max_iter': 500,...</td>\n",
       "      <td>0.934986</td>\n",
       "      <td>0.930995</td>\n",
       "      <td>0.933494</td>\n",
       "      <td>0.932052</td>\n",
       "      <td>0.937194</td>\n",
       "      <td>0.933744</td>\n",
       "      <td>0.002188</td>\n",
       "      <td>2</td>\n",
       "    </tr>\n",
       "  </tbody>\n",
       "</table>\n",
       "</div>"
      ],
      "text/plain": [
       "   mean_fit_time  std_fit_time  mean_score_time  std_score_time  \\\n",
       "0      99.880801     42.922300         0.008834        0.001813   \n",
       "1     100.269097     14.807600         0.010706        0.000335   \n",
       "2      74.619544     20.569110         0.011496        0.004978   \n",
       "3     376.359996    372.444650         0.018623        0.007770   \n",
       "4     163.394616     33.058251         0.025206        0.003538   \n",
       "\n",
       "  param_hidden_layer_sizes param_max_iter param_random_state  \\\n",
       "0                    (10,)            500                 42   \n",
       "1                    (20,)            500                 42   \n",
       "2                    (30,)            500                 42   \n",
       "3                    (40,)            500                 42   \n",
       "4                    (50,)            500                 42   \n",
       "\n",
       "                                              params  split0_test_score  \\\n",
       "0  {'hidden_layer_sizes': (10,), 'max_iter': 500,...           0.931142   \n",
       "1  {'hidden_layer_sizes': (20,), 'max_iter': 500,...           0.932488   \n",
       "2  {'hidden_layer_sizes': (30,), 'max_iter': 500,...           0.934217   \n",
       "3  {'hidden_layer_sizes': (40,), 'max_iter': 500,...           0.935659   \n",
       "4  {'hidden_layer_sizes': (50,), 'max_iter': 500,...           0.934986   \n",
       "\n",
       "   split1_test_score  split2_test_score  split3_test_score  split4_test_score  \\\n",
       "0           0.930514           0.928496           0.921864           0.923546   \n",
       "1           0.930034           0.930226           0.932052           0.931139   \n",
       "2           0.934647           0.934695           0.930802           0.930899   \n",
       "3           0.937049           0.931860           0.934262           0.936617   \n",
       "4           0.930995           0.933494           0.932052           0.937194   \n",
       "\n",
       "   mean_test_score  std_test_score  rank_test_score  \n",
       "0         0.927113        0.003741                5  \n",
       "1         0.931188        0.000969                4  \n",
       "2         0.933052        0.001805                3  \n",
       "3         0.935090        0.001877                1  \n",
       "4         0.933744        0.002188                2  "
      ]
     },
     "execution_count": 15,
     "metadata": {},
     "output_type": "execute_result"
    }
   ],
   "source": [
    "\"\"\" Plot the scores for the searched parameters on the vanilla neural network classifier \"\"\"\n",
    "# plot.grid_search(nn_grid_search.cv_results_, change='hidden_layer_sizes', kind='bar')\n",
    "pd.DataFrame(nn_grid_search.cv_results_)"
   ]
  },
  {
   "cell_type": "code",
   "execution_count": null,
   "metadata": {},
   "outputs": [
    {
     "name": "stdout",
     "output_type": "stream",
     "text": [
      "HiddenLayerSize: (10,) [99.880801s] score: 0.927113\n",
      "HiddenLayerSize: (20,) [100.269097s] score: 0.931188\n",
      "HiddenLayerSize: (30,) [74.619544s] score: 0.933052\n",
      "HiddenLayerSize: (40,) [376.359996s] score: 0.935090\n",
      "HiddenLayerSize: (50,) [163.394616s] score: 0.933744\n"
     ]
    }
   ],
   "source": [
    "# Get the results of the grid search\n",
    "results = nn_grid_search.cv_results_\n",
    "\n",
    "# Get the mean and standard deviation for each hyperparameter combination\n",
    "mean_scores = results['mean_test_score']\n",
    "mean_times = results['mean_fit_time']\n",
    "params = results['param_hidden_layer_sizes']\n",
    "\n",
    "# Loop through each combination of hyperparameters\n",
    "for mean_score, mean_time, param in zip(mean_scores, mean_times, params):\n",
    "    print(\"HiddenLayerSize: %r [%.2fs] score: %f\" % (param, mean_time, mean_score))\n"
   ]
  },
  {
   "cell_type": "code",
   "execution_count": 42,
   "metadata": {},
   "outputs": [
    {
     "data": {
      "image/png": "[encoded data removed]",
      "text/plain": [
       "<Figure size 640x480 with 1 Axes>"
      ]
     },
     "metadata": {},
     "output_type": "display_data"
    },
    {
     "data": {
      "image/png": "[encoded data removed]",
      "text/plain": [
       "<Figure size 640x480 with 1 Axes>"
      ]
     },
     "metadata": {},
     "output_type": "display_data"
    }
   ],
   "source": [
    "# print(list(params))\n",
    "# Get the number of hidden layers for each model\n",
    "# hidden_layer_sizes = [param['hidden_layer_sizes'] for param in params]\n",
    "# print(type(hidden_layer_sizes))\n",
    "plt.plot(list(params), mean_scores, 'o-', label=\"Mean Score\")\n",
    "\n",
    "# Add labels to the axes\n",
    "plt.xlabel('Number of hidden layers')\n",
    "plt.ylabel('Score')\n",
    "\n",
    "# Show the plot\n",
    "plt.show()"
   ]
  },
  {
   "cell_type": "code",
   "execution_count": null,
   "metadata": {},
   "outputs": [],
   "source": [
    "# Create a SVM classifier and train it on the training data\n",
    "svm_clf = SVC(random_state=42)\n",
    "\n",
    "svm_param_grid = {\n",
    "    'kernel': ['linear', 'rbf'],\n",
    "    'C': [0.1, 1, 10],\n",
    "    'random_state': [42],\n",
    "}\n",
    "\n",
    "svm_grid_search = GridSearchCV(svm_clf, svm_param_grid, cv=5, scoring='accuracy')\n",
    "\n",
    "svm_start_time = time.time()\n",
    "svm_grid_search.fit(X_train, y_train)\n",
    "svm_end_time = time.time()\n",
    "\n",
    "print('SVM best hyperparameters:', svm_grid_search.best_params_)\n",
    "print('SVM best cross-validation accuracy:', svm_grid_search.best_score_)\n",
    "\n",
    "svm_clf = svm_grid_search.best_estimator_\n",
    "\n",
    "# svm_clf.fit(X_train, y_train)\n",
    "\n",
    "svm_test_accuracy = svm_grid_search.score(X_test, y_test)\n",
    "print('Time required to train SVM classifier:', svm_end_time - svm_start_time)\n",
    "print('SVM test accuracy:', svm_test_accuracy)"
   ]
  },
  {
   "cell_type": "code",
   "execution_count": null,
   "metadata": {},
   "outputs": [],
   "source": [
    "# Create a random forest classifier and train it on the training data\n",
    "rf_clf = RandomForestClassifier(random_state=42)\n",
    "\n",
    "param_grid = {\n",
    "    \"n_estimators\": [10, 50, 100, 200],\n",
    "    # \"max_depth\": [None, 10, 20, 30],\n",
    "    # \"min_samples_split\": [2, 4, 8],\n",
    "    # \"min_samples_leaf\": [1, 2, 4],\n",
    "    # \"max_features\": [\"sqrt\", \"log2\", None]\n",
    "    'random_state': [42]\n",
    "}\n",
    "\n",
    "rf_grid_search = GridSearchCV(rf_clf, svm_param_grid, cv=5, scoring='accuracy')\n",
    "\n",
    "rf_start_time = time.time()\n",
    "rf_grid_search.fit(X_train, y_train)\n",
    "rf_end_time = time.time()\n",
    "\n",
    "print('RF best hyperparameters:', rf_grid_search.best_params_)\n",
    "print('RF best cross-validation accuracy:', rf_grid_search.best_score_)\n",
    "\n",
    "rf_clf = rf_grid_search.best_estimator_\n",
    "# rf_clf.fit(X_train, y_train)\n",
    "\n",
    "rf_test_accuracy = rf_grid_search.score(X_test, y_test)\n",
    "print('Time required to train RF classifier:', rf_end_time - rf_start_time)\n",
    "print('RF test accuracy:', rf_test_accuracy)"
   ]
  },
  {
   "cell_type": "code",
   "execution_count": null,
   "metadata": {},
   "outputs": [],
   "source": [
    "# Generate predictions for the test set\n",
    "nn_predictions = nn_clf.predict(X_test)\n",
    "svm_predictions = svm_clf.predict(X_test)\n",
    "rf_predictions = rf_clf.predict(X_test)"
   ]
  },
  {
   "cell_type": "code",
   "execution_count": null,
   "metadata": {},
   "outputs": [],
   "source": [
    "from sklearn.metrics import confusion_matrix\n",
    "\n",
    "# Define a dictionary that maps model names to their hyperparameters\n",
    "model_hyperparams = {\n",
    "    'Vanilla Neural Network': nn_grid_search.best_params_,\n",
    "    'SVM': svm_grid_search.best_params_,\n",
    "    'Random Forest': rf_grid_search.best_params_\n",
    "}\n",
    "\n",
    "# Compute the confusion matrix for each model\n",
    "nn_confusion_matrix = metrics.confusion_matrix(y_test, nn_predictions)\n",
    "svm_confusion_matrix = metrics.confusion_matrix(y_test, svm_predictions)\n",
    "rf_confusion_matrix = metrics.confusion_matrix(y_test, rf_predictions)\n",
    "\n",
    "# Print the confusion matrix and hyperparameters for each model\n",
    "print('Vanilla Neural Network confusion matrix:')\n",
    "print(nn_confusion_matrix)\n",
    "print('Vanilla Neural Network hyperparameters:', model_hyperparams['Vanilla Neural Network'])\n",
    "\n",
    "print('SVM confusion matrix:')\n",
    "print(svm_confusion_matrix)\n",
    "print('SVM hyperparameters:', model_hyperparams['SVM'])\n",
    "\n",
    "print('Random Forest confusion matrix:')\n",
    "print(rf_confusion_matrix)\n",
    "print('Random Forest hyperparameters:', model_hyperparams['Random Forest'])"
   ]
  },
  {
   "cell_type": "code",
   "execution_count": null,
   "metadata": {},
   "outputs": [],
   "source": [
    "# Evaluate the performance of each classifier\n",
    "nn_accuracy = metrics.accuracy_score(y_test, nn_predictions)\n",
    "svm_accuracy = metrics.accuracy_score(y_test, svm_predictions)\n",
    "rf_accuracy = metrics.accuracy_score(y_test, rf_predictions)\n",
    "print(\"Vanilla Neural Network Accuracy:\", nn_accuracy)\n",
    "print(\"SVM Accuracy:\", svm_accuracy)\n",
    "print(\"Random Forest Accuracy:\", rf_accuracy)"
   ]
  }
 ],
 "metadata": {
  "kernelspec": {
   "display_name": "ml_env",
   "language": "python",
   "name": "python3"
  },
  "language_info": {
   "codemirror_mode": {
    "name": "ipython",
    "version": 3
   },
   "file_extension": ".py",
   "mimetype": "text/x-python",
   "name": "python",
   "nbconvert_exporter": "python",
   "pygments_lexer": "ipython3",
   "version": "3.10.6 | packaged by conda-forge | (main, Oct 24 2022, 16:02:16) [MSC v.1916 64 bit (AMD64)]"
  },
  "orig_nbformat": 4,
  "vscode": {
   "interpreter": {
    "hash": "80efd73a90444072c23059b27a682a4b0343647f1b8849b7f8cb3b27a325c7e2"
   }
  }
 },
 "nbformat": 4,
 "nbformat_minor": 2
}
